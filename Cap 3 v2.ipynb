{
  "nbformat": 4,
  "nbformat_minor": 0,
  "metadata": {
    "colab": {
      "name": "Untitled8.ipynb",
      "provenance": [],
      "authorship_tag": "ABX9TyOb7WtZAU8Sg3Ag2cMByQCY",
      "include_colab_link": true
    },
    "kernelspec": {
      "name": "python3",
      "display_name": "Python 3"
    },
    "accelerator": "GPU"
  },
  "cells": [
    {
      "cell_type": "markdown",
      "metadata": {
        "id": "view-in-github",
        "colab_type": "text"
      },
      "source": [
        "<a href=\"https://colab.research.google.com/github/Schwarzam/Testes-Deep-Learning/blob/master/Cap%203%20v2.ipynb\" target=\"_parent\"><img src=\"https://colab.research.google.com/assets/colab-badge.svg\" alt=\"Open In Colab\"/></a>"
      ]
    },
    {
      "cell_type": "code",
      "metadata": {
        "id": "TUCwhwMoAHfA",
        "colab_type": "code",
        "colab": {
          "base_uri": "https://localhost:8080/",
          "height": 68
        },
        "outputId": "2f3b978b-219e-4b40-850a-9492834e2fca"
      },
      "source": [
        "from keras.datasets import imdb\n",
        "(train_data, train_labels), (test_data, test_labels) =imdb.load_data(num_words=10000)"
      ],
      "execution_count": 2,
      "outputs": [
        {
          "output_type": "stream",
          "text": [
            "Using TensorFlow backend.\n"
          ],
          "name": "stderr"
        },
        {
          "output_type": "stream",
          "text": [
            "Downloading data from https://s3.amazonaws.com/text-datasets/imdb.npz\n",
            "17465344/17464789 [==============================] - 1s 0us/step\n"
          ],
          "name": "stdout"
        }
      ]
    },
    {
      "cell_type": "code",
      "metadata": {
        "id": "R_vU-7hcApji",
        "colab_type": "code",
        "colab": {}
      },
      "source": [
        "import numpy as np  "
      ],
      "execution_count": 0,
      "outputs": []
    },
    {
      "cell_type": "code",
      "metadata": {
        "id": "N77KmmWsAtzf",
        "colab_type": "code",
        "colab": {}
      },
      "source": [
        "def vectorize_sequences(sequences, dimension=10000):\n",
        "  results = np.zeros((len(sequences), dimension))\n",
        "  for i, sequence in enumerate(sequences):\n",
        "    results[i, sequence] = 1.\n",
        "  return results\n",
        "x_train = vectorize_sequences(train_data)\n",
        "x_test = vectorize_sequences(test_data)"
      ],
      "execution_count": 0,
      "outputs": []
    },
    {
      "cell_type": "code",
      "metadata": {
        "id": "C2TYLoZYB76T",
        "colab_type": "code",
        "colab": {}
      },
      "source": [
        "y_train = np.asarray(train_labels).astype('float32')\n",
        "y_test = np.asarray(test_labels).astype('float32')"
      ],
      "execution_count": 0,
      "outputs": []
    },
    {
      "cell_type": "code",
      "metadata": {
        "id": "Va50r7nEDSTZ",
        "colab_type": "code",
        "colab": {}
      },
      "source": [
        "from keras import models\n",
        "from keras import layers\n",
        "model = models.Sequential()\n",
        "model.add(layers.Dense(64, activation = 'relu', input_shape=(10000,)))\n",
        "model.add(layers.Dense(32, activation='tanh'))\n",
        "model.add(layers.Dense(16, activation='elu'))\n",
        "model.add(layers.Dense(1, activation='sigmoid'))"
      ],
      "execution_count": 0,
      "outputs": []
    },
    {
      "cell_type": "code",
      "metadata": {
        "id": "UVFo97PLFGIF",
        "colab_type": "code",
        "colab": {}
      },
      "source": [
        "model.compile(optimizer='rmsprop',\n",
        "              loss='binary_crossentropy',\n",
        "              metrics=['accuracy'])"
      ],
      "execution_count": 0,
      "outputs": []
    },
    {
      "cell_type": "code",
      "metadata": {
        "id": "LbO_rbIQGJar",
        "colab_type": "code",
        "colab": {}
      },
      "source": [
        "from keras import optimizers\n",
        "model.compile(optimizer=optimizers.RMSprop(lr=0.001),\n",
        "              loss='binary_crossentropy',\n",
        "              metrics=['accuracy'])"
      ],
      "execution_count": 0,
      "outputs": []
    },
    {
      "cell_type": "code",
      "metadata": {
        "id": "hL3rwXjrGOpf",
        "colab_type": "code",
        "colab": {}
      },
      "source": [
        "from keras import losses\n",
        "from keras import metrics\n",
        "model.compile(optimizer=optimizers.RMSprop(lr=0.001),\n",
        "              loss=losses.binary_crossentropy,\n",
        "              metrics=[metrics.accuracy])\n"
      ],
      "execution_count": 0,
      "outputs": []
    },
    {
      "cell_type": "code",
      "metadata": {
        "id": "8sG121M5GwlT",
        "colab_type": "code",
        "colab": {}
      },
      "source": [
        "x_val = x_train[:10000]\n",
        "partial_x_train = x_train[10000:]\n",
        "y_val = y_train[:10000]\n",
        "partial_y_train = y_train[10000:]"
      ],
      "execution_count": 0,
      "outputs": []
    },
    {
      "cell_type": "code",
      "metadata": {
        "id": "irIdKgxWHEtV",
        "colab_type": "code",
        "colab": {
          "base_uri": "https://localhost:8080/",
          "height": 734
        },
        "outputId": "5c183ed0-fff7-4745-ab67-5b02b9231d13"
      },
      "source": [
        "model.compile(optimizer='rmsprop',\n",
        "              loss='binary_crossentropy',\n",
        "              metrics=['acc'])\n",
        "history = model.fit(partial_x_train,\n",
        "                    partial_y_train,\n",
        "                    epochs=20,\n",
        "                    batch_size=512,\n",
        "                    validation_data=(x_val, y_val))"
      ],
      "execution_count": 11,
      "outputs": [
        {
          "output_type": "stream",
          "text": [
            "Train on 15000 samples, validate on 10000 samples\n",
            "Epoch 1/20\n",
            "15000/15000 [==============================] - 3s 201us/step - loss: 0.4594 - acc: 0.7926 - val_loss: 0.3731 - val_acc: 0.8378\n",
            "Epoch 2/20\n",
            "15000/15000 [==============================] - 1s 81us/step - loss: 0.2522 - acc: 0.9018 - val_loss: 0.2710 - val_acc: 0.8925\n",
            "Epoch 3/20\n",
            "15000/15000 [==============================] - 1s 81us/step - loss: 0.1815 - acc: 0.9319 - val_loss: 0.3143 - val_acc: 0.8758\n",
            "Epoch 4/20\n",
            "15000/15000 [==============================] - 1s 82us/step - loss: 0.1263 - acc: 0.9546 - val_loss: 0.3047 - val_acc: 0.8855\n",
            "Epoch 5/20\n",
            "15000/15000 [==============================] - 1s 82us/step - loss: 0.0982 - acc: 0.9690 - val_loss: 0.3388 - val_acc: 0.8829\n",
            "Epoch 6/20\n",
            "15000/15000 [==============================] - 1s 82us/step - loss: 0.0681 - acc: 0.9777 - val_loss: 0.3748 - val_acc: 0.8813\n",
            "Epoch 7/20\n",
            "15000/15000 [==============================] - 1s 83us/step - loss: 0.0527 - acc: 0.9833 - val_loss: 0.4105 - val_acc: 0.8806\n",
            "Epoch 8/20\n",
            "15000/15000 [==============================] - 1s 82us/step - loss: 0.0111 - acc: 0.9987 - val_loss: 0.4847 - val_acc: 0.8778\n",
            "Epoch 9/20\n",
            "15000/15000 [==============================] - 1s 83us/step - loss: 0.0615 - acc: 0.9857 - val_loss: 0.5052 - val_acc: 0.8763\n",
            "Epoch 10/20\n",
            "15000/15000 [==============================] - 1s 84us/step - loss: 0.0030 - acc: 0.9999 - val_loss: 0.5610 - val_acc: 0.8756\n",
            "Epoch 11/20\n",
            "15000/15000 [==============================] - 1s 85us/step - loss: 0.0015 - acc: 0.9999 - val_loss: 0.6402 - val_acc: 0.8751\n",
            "Epoch 12/20\n",
            "15000/15000 [==============================] - 1s 83us/step - loss: 0.0079 - acc: 0.9985 - val_loss: 1.1800 - val_acc: 0.8134\n",
            "Epoch 13/20\n",
            "15000/15000 [==============================] - 1s 84us/step - loss: 0.0125 - acc: 0.9967 - val_loss: 0.7256 - val_acc: 0.8731\n",
            "Epoch 14/20\n",
            "15000/15000 [==============================] - 1s 84us/step - loss: 2.1678e-04 - acc: 1.0000 - val_loss: 0.7713 - val_acc: 0.8717\n",
            "Epoch 15/20\n",
            "15000/15000 [==============================] - 1s 83us/step - loss: 1.2505e-04 - acc: 1.0000 - val_loss: 0.8349 - val_acc: 0.8713\n",
            "Epoch 16/20\n",
            "15000/15000 [==============================] - 1s 83us/step - loss: 5.4152e-05 - acc: 1.0000 - val_loss: 0.9348 - val_acc: 0.8723\n",
            "Epoch 17/20\n",
            "15000/15000 [==============================] - 1s 84us/step - loss: 1.5707e-05 - acc: 1.0000 - val_loss: 1.0568 - val_acc: 0.8691\n",
            "Epoch 18/20\n",
            "15000/15000 [==============================] - 1s 84us/step - loss: 4.1308e-06 - acc: 1.0000 - val_loss: 1.1810 - val_acc: 0.8688\n",
            "Epoch 19/20\n",
            "15000/15000 [==============================] - 1s 83us/step - loss: 9.8907e-07 - acc: 1.0000 - val_loss: 1.2899 - val_acc: 0.8704\n",
            "Epoch 20/20\n",
            "15000/15000 [==============================] - 1s 83us/step - loss: 2.9379e-07 - acc: 1.0000 - val_loss: 1.3876 - val_acc: 0.8705\n"
          ],
          "name": "stdout"
        }
      ]
    },
    {
      "cell_type": "code",
      "metadata": {
        "id": "EvYLh8rhHonc",
        "colab_type": "code",
        "colab": {
          "base_uri": "https://localhost:8080/",
          "height": 312
        },
        "outputId": "57796188-15ba-43be-dd9d-221d324cd565"
      },
      "source": [
        "import matplotlib.pyplot as plt\n",
        "history_dict = history.history\n",
        "loss_values = history_dict['loss']\n",
        "val_loss_values = history_dict['val_loss']\n",
        "\n",
        "epochs =  range(1, len(history_dict['acc']) + 1)\n",
        "plt.plot (epochs, loss_values, 'bo', label='Training_loss')\n",
        "plt.plot (epochs, val_loss_values,'b', label='Validation Loss')\n",
        "plt.title ('Training and Validation loss')\n",
        "plt.xlabel('Epochs')\n",
        "plt.ylabel('Loss')\n",
        "plt.legend()\n",
        "\n",
        "plt.show"
      ],
      "execution_count": 12,
      "outputs": [
        {
          "output_type": "execute_result",
          "data": {
            "text/plain": [
              "<function matplotlib.pyplot.show>"
            ]
          },
          "metadata": {
            "tags": []
          },
          "execution_count": 12
        },
        {
          "output_type": "display_data",
          "data": {
            "image/png": "[encoded data removed]",
            "text/plain": [
              "<Figure size 432x288 with 1 Axes>"
            ]
          },
          "metadata": {
            "tags": [],
            "needs_background": "light"
          }
        }
      ]
    },
    {
      "cell_type": "code",
      "metadata": {
        "id": "x0Rsa-7UL1zn",
        "colab_type": "code",
        "colab": {
          "base_uri": "https://localhost:8080/",
          "height": 312
        },
        "outputId": "ea0ccec3-ad35-4d57-bd68-1fbd23b8ffb2"
      },
      "source": [
        "plt.clf()\n",
        "acc_values = history_dict['acc']\n",
        "val_acc_values = history_dict['val_acc']\n",
        "\n",
        "plt.plot(epochs, history_dict['acc'], 'bo', label= 'Training acc')\n",
        "plt.plot(epochs, history_dict['val_acc'], 'b', label= 'Validation acc')\n",
        "plt.title('Training and validation accuracy')\n",
        "plt.xlabel('Epochs')\n",
        "plt.ylabel('Loss')\n",
        "plt.legend()\n",
        "\n",
        "plt.show\n"
      ],
      "execution_count": 13,
      "outputs": [
        {
          "output_type": "execute_result",
          "data": {
            "text/plain": [
              "<function matplotlib.pyplot.show>"
            ]
          },
          "metadata": {
            "tags": []
          },
          "execution_count": 13
        },
        {
          "output_type": "display_data",
          "data": {
            "image/png": "[encoded data removed]",
            "text/plain": [
              "<Figure size 432x288 with 1 Axes>"
            ]
          },
          "metadata": {
            "tags": [],
            "needs_background": "light"
          }
        }
      ]
    },
    {
      "cell_type": "code",
      "metadata": {
        "id": "gBl_a-j-O8OE",
        "colab_type": "code",
        "colab": {
          "base_uri": "https://localhost:8080/",
          "height": 34
        },
        "outputId": "0f96addf-347b-4d7f-cc99-2d1161eb25ff"
      },
      "source": [
        "results = model.evaluate(x_test, y_test)"
      ],
      "execution_count": 14,
      "outputs": [
        {
          "output_type": "stream",
          "text": [
            "25000/25000 [==============================] - 2s 93us/step\n"
          ],
          "name": "stdout"
        }
      ]
    },
    {
      "cell_type": "code",
      "metadata": {
        "id": "uR4tX_FJSejK",
        "colab_type": "code",
        "colab": {
          "base_uri": "https://localhost:8080/",
          "height": 34
        },
        "outputId": "18cd6bae-997c-4d3d-a0c7-78a4775eff26"
      },
      "source": [
        "results"
      ],
      "execution_count": 15,
      "outputs": [
        {
          "output_type": "execute_result",
          "data": {
            "text/plain": [
              "[1.5360750609895586, 0.8544800281524658]"
            ]
          },
          "metadata": {
            "tags": []
          },
          "execution_count": 15
        }
      ]
    },
    {
      "cell_type": "code",
      "metadata": {
        "id": "kTApHLneSqCZ",
        "colab_type": "code",
        "colab": {}
      },
      "source": [
        ""
      ],
      "execution_count": 0,
      "outputs": []
    }
  ]
}