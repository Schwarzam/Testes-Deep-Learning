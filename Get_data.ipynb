{
 "cells": [
  {
   "cell_type": "code",
   "execution_count": 1,
   "metadata": {},
   "outputs": [],
   "source": [
    "import splusdata\n",
    "from tqdm import tqdm\n",
    "\n",
    "import numpy as np\n",
    "from astropy.io import fits\n",
    "\n",
    "from src.auxiliar import plot_fits\n",
    "from src.get_data import gen_dataset\n",
    "from src.log import control"
   ]
  },
  {
   "cell_type": "code",
   "execution_count": 2,
   "metadata": {},
   "outputs": [
    {
     "name": "stdout",
     "output_type": "stream",
     "text": [
      "10/03/2024 02:08:19  [info] - get_data.py - gen_dataset() - Insert splus.cloud credentials\n",
      "10/03/2024 02:08:24  [info] - get_data.py - gen_dataset() - Querying data\n",
      "10/03/2024 02:08:36  [info] - get_data.py - gen_dataset() - Downloading stamps\n",
      "10/03/2024 02:08:36  [info] - get_data.py - threadable_splus_stamp() - Stamp for iDR4_3_STRIPE82-0002_0000151 downloaded. 1/2000\n",
      "10/03/2024 02:08:41  [info] - get_data.py - threadable_splus_stamp() - Stamp for iDR4_3_STRIPE82-0002_0000166 downloaded. 2/2000\n",
      "10/03/2024 02:08:41  [info] - get_data.py - threadable_splus_stamp() - Stamp for iDR4_3_STRIPE82-0002_0000209 downloaded. 3/2000\n",
      "10/03/2024 02:08:41  [info] - get_data.py - threadable_splus_stamp() - Stamp for iDR4_3_STRIPE82-0002_0000195 downloaded. 4/2000\n",
      "10/03/2024 02:08:41  [info] - get_data.py - threadable_splus_stamp() - Stamp for iDR4_3_STRIPE82-0002_0000244 downloaded. 5/2000\n",
      "10/03/2024 02:08:41  [info] - get_data.py - threadable_splus_stamp() - Stamp for iDR4_3_STRIPE82-0002_0000197 downloaded. 6/2000\n",
      "10/03/2024 02:08:41  [info] - get_data.py - threadable_splus_stamp() - Stamp for iDR4_3_STRIPE82-0002_0000578 downloaded. 7/2000\n",
      "10/03/2024 02:08:41  [info] - get_data.py - threadable_splus_stamp() - Stamp for iDR4_3_STRIPE82-0002_0000764 downloaded. 8/2000\n",
      "10/03/2024 02:08:41  [info] - get_data.py - threadable_splus_stamp() - Stamp for iDR4_3_STRIPE82-0002_0000297 downloaded. 9/2000\n",
      "10/03/2024 02:08:41  [info] - get_data.py - threadable_splus_stamp() - Stamp for iDR4_3_STRIPE82-0002_0000528 downloaded. 10/2000\n",
      "10/03/2024 02:08:41  [info] - get_data.py - threadable_splus_stamp() - Stamp for iDR4_3_STRIPE82-0002_0000330 downloaded. 11/2000\n",
      "10/03/2024 02:08:46  [info] - get_data.py - threadable_splus_stamp() - Stamp for iDR4_3_STRIPE82-0002_0000834 downloaded. 12/2000\n",
      "10/03/2024 02:08:46  [info] - get_data.py - threadable_splus_stamp() - Stamp for iDR4_3_STRIPE82-0002_0001532 downloaded. 13/2000\n",
      "10/03/2024 02:08:46  [info] - get_data.py - threadable_splus_stamp() - Stamp for iDR4_3_STRIPE82-0002_0001040 downloaded. 14/2000\n",
      "10/03/2024 02:08:46  [info] - get_data.py - threadable_splus_stamp() - Stamp for iDR4_3_STRIPE82-0002_0002034 downloaded. 15/2000\n",
      "10/03/2024 02:08:46  [info] - get_data.py - threadable_splus_stamp() - Stamp for iDR4_3_STRIPE82-0002_0001839 downloaded. 16/2000\n",
      "10/03/2024 02:08:47  [info] - get_data.py - threadable_splus_stamp() - Stamp for iDR4_3_STRIPE82-0002_0001726 downloaded. 17/2000\n",
      "10/03/2024 02:08:47  [info] - get_data.py - threadable_splus_stamp() - Stamp for iDR4_3_STRIPE82-0002_0001361 downloaded. 18/2000\n",
      "10/03/2024 02:08:47  [info] - get_data.py - threadable_splus_stamp() - Stamp for iDR4_3_STRIPE82-0002_0001999 downloaded. 19/2000\n",
      "10/03/2024 02:08:47  [info] - get_data.py - threadable_splus_stamp() - Stamp for iDR4_3_STRIPE82-0002_0002123 downloaded. 20/2000\n",
      "10/03/2024 02:08:48  [info] - get_data.py - threadable_splus_stamp() - Stamp for iDR4_3_STRIPE82-0002_0002099 downloaded. 21/2000\n",
      "10/03/2024 02:08:50  [info] - get_data.py - threadable_splus_stamp() - Stamp for iDR4_3_STRIPE82-0002_0002138 downloaded. 22/200010/03/2024 02:08:50  [info] - get_data.py - threadable_splus_stamp() - Stamp for iDR4_3_STRIPE82-0002_0002222 downloaded. 23/2000\n",
      "\n",
      "10/03/2024 02:08:51  [info] - get_data.py - threadable_splus_stamp() - Stamp for iDR4_3_STRIPE82-0002_0002145 downloaded. 24/200010/03/2024 02:08:51  [info] - get_data.py - threadable_splus_stamp() - Stamp for iDR4_3_STRIPE82-0002_0002288 downloaded. 25/2000\n",
      "\n",
      "10/03/2024 02:08:52  [info] - get_data.py - threadable_splus_stamp() - Stamp for iDR4_3_STRIPE82-0002_0002309 downloaded. 26/2000\n",
      "10/03/2024 02:08:52  [info] - get_data.py - threadable_splus_stamp() - Stamp for iDR4_3_STRIPE82-0002_0002531 downloaded. 27/2000\n",
      "10/03/2024 02:08:53  [info] - get_data.py - threadable_splus_stamp() - Stamp for iDR4_3_STRIPE82-0002_0002581 downloaded. 28/200010/03/2024 02:08:53  [info] - get_data.py - threadable_splus_stamp() - Stamp for iDR4_3_STRIPE82-0002_0002573 downloaded. 29/2000\n",
      "\n",
      "10/03/2024 02:08:53  [info] - get_data.py - threadable_splus_stamp() - Stamp for iDR4_3_STRIPE82-0002_0002650 downloaded. 30/2000\n",
      "10/03/2024 02:08:54  [info] - get_data.py - threadable_splus_stamp() - Stamp for iDR4_3_STRIPE82-0002_0002984 downloaded. 31/2000\n",
      "10/03/2024 02:08:55  [info] - get_data.py - threadable_splus_stamp() - Stamp for iDR4_3_STRIPE82-0002_0003017 downloaded. 32/200010/03/2024 02:08:55  [info] - get_data.py - threadable_splus_stamp() - Stamp for iDR4_3_STRIPE82-0002_0002811 downloaded. 33/2000\n",
      "\n",
      "10/03/2024 02:08:56  [info] - get_data.py - threadable_splus_stamp() - Stamp for iDR4_3_STRIPE82-0001_0024039 downloaded. 34/2000\n",
      "10/03/2024 02:08:56  [info] - get_data.py - threadable_splus_stamp() - Stamp for iDR4_3_STRIPE82-0001_0024704 downloaded. 35/2000\n",
      "10/03/2024 02:08:58  [info] - get_data.py - threadable_splus_stamp() - Stamp for iDR4_3_STRIPE82-0001_0029995 downloaded. 36/200010/03/2024 02:08:58  [info] - get_data.py - threadable_splus_stamp() - Stamp for iDR4_3_STRIPE82-0001_0028652 downloaded. 37/2000\n",
      "\n",
      "10/03/2024 02:08:59  [info] - get_data.py - threadable_splus_stamp() - Stamp for iDR4_3_STRIPE82-0001_0030712 downloaded. 38/2000\n",
      "10/03/2024 02:09:00  [info] - get_data.py - threadable_splus_stamp() - Stamp for iDR4_3_STRIPE82-0001_0030432 downloaded. 39/2000\n",
      "10/03/2024 02:09:00  [info] - get_data.py - threadable_splus_stamp() - Stamp for iDR4_3_STRIPE82-0001_0029923 downloaded. 40/2000\n",
      "10/03/2024 02:09:01  [info] - get_data.py - threadable_splus_stamp() - Stamp for iDR4_3_STRIPE82-0001_0029965 downloaded. 41/2000\n",
      "10/03/2024 02:09:01  [info] - get_data.py - threadable_splus_stamp() - Stamp for iDR4_3_STRIPE82-0001_0030916 downloaded. 42/2000\n",
      "10/03/2024 02:09:01  [info] - get_data.py - threadable_splus_stamp() - Stamp for iDR4_3_STRIPE82-0001_0030964 downloaded. 43/2000\n",
      "10/03/2024 02:09:01  [info] - get_data.py - threadable_splus_stamp() - Stamp for iDR4_3_STRIPE82-0001_0030975 downloaded. 44/2000\n",
      "10/03/2024 02:09:04  [info] - get_data.py - threadable_splus_stamp() - Stamp for iDR4_3_STRIPE82-0001_0031183 downloaded. 45/200010/03/2024 02:09:04  [info] - get_data.py - threadable_splus_stamp() - Stamp for iDR4_3_STRIPE82-0001_0031280 downloaded. 46/2000\n",
      "\n",
      "10/03/2024 02:09:04  [info] - get_data.py - threadable_splus_stamp() - Stamp for iDR4_3_STRIPE82-0001_0030800 downloaded. 47/2000\n",
      "10/03/2024 02:09:05  [info] - get_data.py - threadable_splus_stamp() - Stamp for iDR4_3_STRIPE82-0001_0031135 downloaded. 48/2000\n",
      "10/03/2024 02:09:06  [info] - get_data.py - threadable_splus_stamp() - Stamp for iDR4_3_STRIPE82-0001_0031677 downloaded. 49/200010/03/2024 02:09:06  [info] - get_data.py - threadable_splus_stamp() - Stamp for iDR4_3_STRIPE82-0001_0031399 downloaded. 50/2000\n",
      "\n",
      "10/03/2024 02:09:06  [info] - get_data.py - threadable_splus_stamp() - Stamp for iDR4_3_STRIPE82-0001_0031670 downloaded. 51/2000\n",
      "10/03/2024 02:09:06  [info] - get_data.py - threadable_splus_stamp() - Stamp for iDR4_3_STRIPE82-0001_0031392 downloaded. 52/2000\n",
      "10/03/2024 02:09:06  [info] - get_data.py - threadable_splus_stamp() - Stamp for iDR4_3_STRIPE82-0001_0031479 downloaded. 53/2000\n",
      "10/03/2024 02:09:07  [info] - get_data.py - threadable_splus_stamp() - Stamp for iDR4_3_STRIPE82-0001_0031826 downloaded. 54/2000\n",
      "10/03/2024 02:09:08  [info] - get_data.py - threadable_splus_stamp() - Stamp for iDR4_3_STRIPE82-0001_0032145 downloaded. 55/2000\n",
      "10/03/2024 02:09:09  [info] - get_data.py - threadable_splus_stamp() - Stamp for iDR4_3_STRIPE82-0001_0032176 downloaded. 56/2000\n",
      "10/03/2024 02:09:12  [info] - get_data.py - threadable_splus_stamp() - Stamp for iDR4_3_STRIPE82-0001_0032192 downloaded. 57/2000\n",
      "10/03/2024 02:09:12  [info] - get_data.py - threadable_splus_stamp() - Stamp for iDR4_3_STRIPE82-0001_0032926 downloaded. 58/2000\n",
      "10/03/2024 02:09:12  [info] - get_data.py - threadable_splus_stamp() - Stamp for iDR4_3_STRIPE82-0001_0032328 downloaded. 59/2000\n",
      "10/03/2024 02:09:12  [info] - get_data.py - threadable_splus_stamp() - Stamp for iDR4_3_STRIPE82-0001_0034293 downloaded. 60/2000\n",
      "10/03/2024 02:09:12  [info] - get_data.py - threadable_splus_stamp() - Stamp for iDR4_3_STRIPE82-0001_0032681 downloaded. 61/2000\n",
      "10/03/2024 02:09:12  [info] - get_data.py - threadable_splus_stamp() - Stamp for iDR4_3_STRIPE82-0001_0032348 downloaded. 62/2000\n",
      "10/03/2024 02:09:13  [info] - get_data.py - threadable_splus_stamp() - Stamp for iDR4_3_STRIPE82-0002_0003152 downloaded. 63/2000\n",
      "10/03/2024 02:09:13  [info] - get_data.py - threadable_splus_stamp() - Stamp for iDR4_3_STRIPE82-0002_0003142 downloaded. 64/2000\n",
      "10/03/2024 02:09:13  [info] - get_data.py - threadable_splus_stamp() - Stamp for iDR4_3_STRIPE82-0002_0003310 downloaded. 65/2000\n",
      "10/03/2024 02:09:13  [info] - get_data.py - threadable_splus_stamp() - Stamp for iDR4_3_STRIPE82-0002_0003481 downloaded. 66/2000\n",
      "10/03/2024 02:09:18  [info] - get_data.py - threadable_splus_stamp() - Stamp for iDR4_3_STRIPE82-0002_0003579 downloaded. 67/200010/03/2024 02:09:19  [info] - get_data.py - threadable_splus_stamp() - Stamp for iDR4_3_STRIPE82-0002_0003984 downloaded. 68/2000\n",
      "10/03/2024 02:09:19  [info] - get_data.py - threadable_splus_stamp() - Stamp for iDR4_3_STRIPE82-0002_0004139 downloaded. 69/2000\n",
      "\n",
      "10/03/2024 02:09:19  [info] - get_data.py - threadable_splus_stamp() - Stamp for iDR4_3_STRIPE82-0002_0003691 downloaded. 70/2000\n",
      "10/03/2024 02:09:19  [info] - get_data.py - threadable_splus_stamp() - Stamp for iDR4_3_STRIPE82-0002_0003556 downloaded. 71/2000\n",
      "10/03/2024 02:09:19  [info] - get_data.py - threadable_splus_stamp() - Stamp for iDR4_3_STRIPE82-0002_0003614 downloaded. 72/2000\n",
      "10/03/2024 02:09:19  [info] - get_data.py - threadable_splus_stamp() - Stamp for iDR4_3_STRIPE82-0002_0003512 downloaded. 73/2000\n",
      "10/03/2024 02:09:19  [info] - get_data.py - threadable_splus_stamp() - Stamp for iDR4_3_STRIPE82-0002_0003872 downloaded. 74/2000\n",
      "10/03/2024 02:09:19  [info] - get_data.py - threadable_splus_stamp() - Stamp for iDR4_3_STRIPE82-0002_0003870 downloaded. 75/2000\n",
      "10/03/2024 02:09:19  [info] - get_data.py - threadable_splus_stamp() - Stamp for iDR4_3_STRIPE82-0002_0003887 downloaded. 76/2000\n",
      "10/03/2024 02:09:25  [info] - get_data.py - threadable_splus_stamp() - Stamp for iDR4_3_STRIPE82-0002_0004702 downloaded. 77/200010/03/2024 02:09:25  [info] - get_data.py - threadable_splus_stamp() - Stamp for iDR4_3_STRIPE82-0002_0004225 downloaded. 78/2000\n",
      "\n",
      "10/03/2024 02:09:25  [info] - get_data.py - threadable_splus_stamp() - Stamp for iDR4_3_STRIPE82-0002_0004219 downloaded. 79/2000\n",
      "10/03/2024 02:09:25  [info] - get_data.py - threadable_splus_stamp() - Stamp for iDR4_3_STRIPE82-0002_0004305 downloaded. 80/2000\n",
      "10/03/2024 02:09:25  [info] - get_data.py - threadable_splus_stamp() - Stamp for iDR4_3_STRIPE82-0002_0005021 downloaded. 81/2000\n",
      "10/03/2024 02:09:25  [info] - get_data.py - threadable_splus_stamp() - Stamp for iDR4_3_STRIPE82-0002_0004559 downloaded. 82/2000\n",
      "10/03/2024 02:09:25  [info] - get_data.py - threadable_splus_stamp() - Stamp for iDR4_3_STRIPE82-0002_0004877 downloaded. 83/2000\n",
      "10/03/2024 02:09:25  [info] - get_data.py - threadable_splus_stamp() - Stamp for iDR4_3_STRIPE82-0002_0004575 downloaded. 84/2000\n",
      "10/03/2024 02:09:25  [info] - get_data.py - threadable_splus_stamp() - Stamp for iDR4_3_STRIPE82-0002_0004609 downloaded. 85/2000\n",
      "10/03/2024 02:09:25  [info] - get_data.py - threadable_splus_stamp() - Stamp for iDR4_3_STRIPE82-0002_0004285 downloaded. 86/2000\n",
      "10/03/2024 02:09:30  [info] - get_data.py - threadable_splus_stamp() - Stamp for iDR4_3_STRIPE82-0002_0005307 downloaded. 87/2000\n",
      "10/03/2024 02:09:31  [info] - get_data.py - threadable_splus_stamp() - Stamp for iDR4_3_STRIPE82-0002_0005638 downloaded. 88/2000\n",
      "10/03/2024 02:09:31  [info] - get_data.py - threadable_splus_stamp() - Stamp for iDR4_3_STRIPE82-0002_0005435 downloaded. 89/2000\n",
      "10/03/2024 02:09:31  [info] - get_data.py - threadable_splus_stamp() - Stamp for iDR4_3_STRIPE82-0002_0006218 downloaded. 90/200010/03/2024 02:09:31  [info] - get_data.py - threadable_splus_stamp() - Stamp for iDR4_3_STRIPE82-0002_0005940 downloaded. 91/2000\n",
      "\n",
      "10/03/2024 02:09:31  [info] - get_data.py - threadable_splus_stamp() - Stamp for iDR4_3_STRIPE82-0002_0006596 downloaded. 92/2000\n",
      "10/03/2024 02:09:31  [info] - get_data.py - threadable_splus_stamp() - Stamp for iDR4_3_STRIPE82-0002_0006221 downloaded. 93/2000\n",
      "10/03/2024 02:09:31  [info] - get_data.py - threadable_splus_stamp() - Stamp for iDR4_3_STRIPE82-0002_0005278 downloaded. 94/2000\n",
      "10/03/2024 02:09:31  [info] - get_data.py - threadable_splus_stamp() - Stamp for iDR4_3_STRIPE82-0002_0005707 downloaded. 95/2000\n",
      "10/03/2024 02:09:31  [info] - get_data.py - threadable_splus_stamp() - Stamp for iDR4_3_STRIPE82-0002_0005715 downloaded. 96/2000\n",
      "10/03/2024 02:09:35  [info] - get_data.py - threadable_splus_stamp() - Stamp for iDR4_3_STRIPE82-0002_0006659 downloaded. 97/2000\n",
      "10/03/2024 02:09:37  [info] - get_data.py - threadable_splus_stamp() - Stamp for iDR4_3_STRIPE82-0002_0006610 downloaded. 98/2000\n",
      "10/03/2024 02:09:37  [info] - get_data.py - threadable_splus_stamp() - Stamp for iDR4_3_STRIPE82-0002_0007091 downloaded. 99/2000\n",
      "10/03/2024 02:09:37  [info] - get_data.py - threadable_splus_stamp() - Stamp for iDR4_3_STRIPE82-0002_0003101 downloaded. 100/2000\n",
      "10/03/2024 02:09:37  [info] - get_data.py - threadable_splus_stamp() - Stamp for iDR4_3_STRIPE82-0002_0007431 downloaded. 101/2000\n",
      "10/03/2024 02:09:37  [info] - get_data.py - threadable_splus_stamp() - Stamp for iDR4_3_STRIPE82-0002_0007364 downloaded. 102/2000\n",
      "10/03/2024 02:09:37  [info] - get_data.py - threadable_splus_stamp() - Stamp for iDR4_3_STRIPE82-0002_0003137 downloaded. 103/2000\n",
      "10/03/2024 02:09:37  [info] - get_data.py - threadable_splus_stamp() - Stamp for iDR4_3_STRIPE82-0002_0009488 downloaded. 104/200010/03/2024 02:09:37  [info] - get_data.py - threadable_splus_stamp() - Stamp for iDR4_3_STRIPE82-0002_0003112 downloaded. 105/2000\n",
      "\n",
      "10/03/2024 02:09:37  [info] - get_data.py - threadable_splus_stamp() - Stamp for iDR4_3_STRIPE82-0002_0009727 downloaded. 106/2000\n",
      "10/03/2024 02:09:41  [info] - get_data.py - threadable_splus_stamp() - Stamp for iDR4_3_STRIPE82-0002_0003282 downloaded. 107/2000\n",
      "10/03/2024 02:09:41  [info] - get_data.py - threadable_splus_stamp() - Stamp for iDR4_3_STRIPE82-0002_0003384 downloaded. 108/2000\n",
      "10/03/2024 02:09:42  [info] - get_data.py - threadable_splus_stamp() - Stamp for iDR4_3_STRIPE82-0002_0003499 downloaded. 109/2000\n",
      "10/03/2024 02:09:43  [info] - get_data.py - threadable_splus_stamp() - Stamp for iDR4_3_STRIPE82-0002_0003524 downloaded. 110/2000\n",
      "10/03/2024 02:09:43  [info] - get_data.py - threadable_splus_stamp() - Stamp for iDR4_3_STRIPE82-0002_0003510 downloaded. 111/2000\n",
      "10/03/2024 02:09:43  [info] - get_data.py - threadable_splus_stamp() - Stamp for iDR4_3_STRIPE82-0002_0003522 downloaded. 112/2000\n",
      "10/03/2024 02:09:43  [info] - get_data.py - threadable_splus_stamp() - Stamp for iDR4_3_STRIPE82-0002_0003653 downloaded. 113/2000\n",
      "10/03/2024 02:09:44  [info] - get_data.py - threadable_splus_stamp() - Stamp for iDR4_3_STRIPE82-0002_0003665 downloaded. 114/2000\n",
      "10/03/2024 02:09:44  [info] - get_data.py - threadable_splus_stamp() - Stamp for iDR4_3_STRIPE82-0002_0003745 downloaded. 115/2000\n",
      "10/03/2024 02:09:44  [info] - get_data.py - threadable_splus_stamp() - Stamp for iDR4_3_STRIPE82-0002_0003514 downloaded. 116/2000\n",
      "10/03/2024 02:09:45  [info] - get_data.py - threadable_splus_stamp() - Stamp for iDR4_3_STRIPE82-0002_0003817 downloaded. 117/2000\n",
      "10/03/2024 02:09:45  [info] - get_data.py - threadable_splus_stamp() - Stamp for iDR4_3_STRIPE82-0002_0003830 downloaded. 118/2000\n",
      "10/03/2024 02:09:46  [info] - get_data.py - threadable_splus_stamp() - Stamp for iDR4_3_STRIPE82-0002_0003885 downloaded. 119/2000\n",
      "10/03/2024 02:09:47  [info] - get_data.py - threadable_splus_stamp() - Stamp for iDR4_3_STRIPE82-0002_0003935 downloaded. 120/2000\n",
      "10/03/2024 02:09:48  [info] - get_data.py - threadable_splus_stamp() - Stamp for iDR4_3_STRIPE82-0002_0003913 downloaded. 121/2000\n",
      "10/03/2024 02:09:50  [info] - get_data.py - threadable_splus_stamp() - Stamp for iDR4_3_STRIPE82-0002_0003943 downloaded. 122/2000\n",
      "10/03/2024 02:09:51  [info] - get_data.py - threadable_splus_stamp() - Stamp for iDR4_3_STRIPE82-0002_0004224 downloaded. 123/2000\n",
      "10/03/2024 02:09:51  [info] - get_data.py - threadable_splus_stamp() - Stamp for iDR4_3_STRIPE82-0002_0003954 downloaded. 124/2000\n",
      "10/03/2024 02:09:51  [info] - get_data.py - threadable_splus_stamp() - Stamp for iDR4_3_STRIPE82-0002_0004216 downloaded. 125/2000\n",
      "10/03/2024 02:09:51  [info] - get_data.py - threadable_splus_stamp() - Stamp for iDR4_3_STRIPE82-0002_0004268 downloaded. 126/2000\n",
      "10/03/2024 02:09:52  [info] - get_data.py - threadable_splus_stamp() - Stamp for iDR4_3_STRIPE82-0002_0004111 downloaded. 127/2000\n",
      "10/03/2024 02:09:52  [info] - get_data.py - threadable_splus_stamp() - Stamp for iDR4_3_STRIPE82-0002_0004247 downloaded. 128/2000\n",
      "10/03/2024 02:09:52  [info] - get_data.py - threadable_splus_stamp() - Stamp for iDR4_3_STRIPE82-0002_0004157 downloaded. 129/2000\n",
      "10/03/2024 02:09:53  [info] - get_data.py - threadable_splus_stamp() - Stamp for iDR4_3_STRIPE82-0002_0004310 downloaded. 130/2000\n",
      "10/03/2024 02:09:53  [info] - get_data.py - threadable_splus_stamp() - Stamp for iDR4_3_STRIPE82-0002_0004352 downloaded. 131/2000\n",
      "10/03/2024 02:09:55  [info] - get_data.py - threadable_splus_stamp() - Stamp for iDR4_3_STRIPE82-0002_0004359 downloaded. 132/2000\n",
      "10/03/2024 02:09:56  [info] - get_data.py - threadable_splus_stamp() - Stamp for iDR4_3_STRIPE82-0002_0004367 downloaded. 133/2000\n",
      "10/03/2024 02:09:57  [info] - get_data.py - threadable_splus_stamp() - Stamp for iDR4_3_STRIPE82-0002_0004518 downloaded. 134/2000\n",
      "10/03/2024 02:09:57  [info] - get_data.py - threadable_splus_stamp() - Stamp for iDR4_3_STRIPE82-0002_0004410 downloaded. 135/2000\n",
      "10/03/2024 02:09:57  [info] - get_data.py - threadable_splus_stamp() - Stamp for iDR4_3_STRIPE82-0002_0004910 downloaded. 136/2000\n",
      "10/03/2024 02:09:58  [info] - get_data.py - threadable_splus_stamp() - Stamp for iDR4_3_STRIPE82-0002_0004505 downloaded. 137/2000\n",
      "10/03/2024 02:09:58  [info] - get_data.py - threadable_splus_stamp() - Stamp for iDR4_3_STRIPE82-0002_0000488 downloaded. 138/2000\n",
      "10/03/2024 02:09:58  [info] - get_data.py - threadable_splus_stamp() - Stamp for iDR4_3_STRIPE82-0002_0004608 downloaded. 139/2000\n",
      "10/03/2024 02:09:59  [info] - get_data.py - threadable_splus_stamp() - Stamp for iDR4_3_STRIPE82-0002_0000651 downloaded. 140/2000\n",
      "10/03/2024 02:09:59  [info] - get_data.py - threadable_splus_stamp() - Stamp for iDR4_3_STRIPE82-0002_0000143 downloaded. 141/2000\n",
      "10/03/2024 02:10:01  [info] - get_data.py - threadable_splus_stamp() - Stamp for iDR4_3_STRIPE82-0002_0000803 downloaded. 142/2000\n",
      "10/03/2024 02:10:02  [info] - get_data.py - threadable_splus_stamp() - Stamp for iDR4_3_STRIPE82-0002_0000814 downloaded. 143/200010/03/2024 02:10:02  [info] - get_data.py - threadable_splus_stamp() - Stamp for iDR4_3_STRIPE82-0002_0000780 downloaded. 144/2000\n",
      "\n",
      "10/03/2024 02:10:02  [info] - get_data.py - threadable_splus_stamp() - Stamp for iDR4_3_STRIPE82-0002_0000666 downloaded. 145/2000\n",
      "10/03/2024 02:10:02  [info] - get_data.py - threadable_splus_stamp() - Stamp for iDR4_3_STRIPE82-0002_0000922 downloaded. 146/2000\n",
      "10/03/2024 02:10:04  [info] - get_data.py - threadable_splus_stamp() - Stamp for iDR4_3_STRIPE82-0002_0000952 downloaded. 147/2000\n",
      "10/03/2024 02:10:05  [info] - get_data.py - threadable_splus_stamp() - Stamp for iDR4_3_STRIPE82-0002_0001063 downloaded. 148/2000\n",
      "10/03/2024 02:10:05  [info] - get_data.py - threadable_splus_stamp() - Stamp for iDR4_3_STRIPE82-0002_0001045 downloaded. 149/2000\n",
      "10/03/2024 02:10:05  [info] - get_data.py - threadable_splus_stamp() - Stamp for iDR4_3_STRIPE82-0002_0001031 downloaded. 150/2000\n",
      "10/03/2024 02:10:06  [info] - get_data.py - threadable_splus_stamp() - Stamp for iDR4_3_STRIPE82-0002_0001132 downloaded. 151/2000\n",
      "10/03/2024 02:10:07  [info] - get_data.py - threadable_splus_stamp() - Stamp for iDR4_3_STRIPE82-0002_0001215 downloaded. 152/2000\n",
      "10/03/2024 02:10:08  [info] - get_data.py - threadable_splus_stamp() - Stamp for iDR4_3_STRIPE82-0002_0001352 downloaded. 153/2000\n",
      "10/03/2024 02:10:08  [info] - get_data.py - threadable_splus_stamp() - Stamp for iDR4_3_STRIPE82-0002_0001487 downloaded. 154/2000\n",
      "10/03/2024 02:10:08  [info] - get_data.py - threadable_splus_stamp() - Stamp for iDR4_3_STRIPE82-0002_0001826 downloaded. 155/2000\n",
      "10/03/2024 02:10:08  [info] - get_data.py - threadable_splus_stamp() - Stamp for iDR4_3_STRIPE82-0002_0001687 downloaded. 156/2000\n",
      "10/03/2024 02:10:09  [info] - get_data.py - threadable_splus_stamp() - Stamp for iDR4_3_STRIPE82-0002_0001885 downloaded. 157/2000\n",
      "10/03/2024 02:10:10  [info] - get_data.py - threadable_splus_stamp() - Stamp for iDR4_3_STRIPE82-0002_0001900 downloaded. 158/2000\n",
      "10/03/2024 02:10:11  [info] - get_data.py - threadable_splus_stamp() - Stamp for iDR4_3_STRIPE82-0002_0002046 downloaded. 159/2000\n",
      "10/03/2024 02:10:12  [info] - get_data.py - threadable_splus_stamp() - Stamp for iDR4_3_STRIPE82-0002_0002143 downloaded. 160/2000\n",
      "10/03/2024 02:10:12  [info] - get_data.py - threadable_splus_stamp() - Stamp for iDR4_3_STRIPE82-0002_0002038 downloaded. 161/2000\n",
      "10/03/2024 02:10:13  [info] - get_data.py - threadable_splus_stamp() - Stamp for iDR4_3_STRIPE82-0002_0002130 downloaded. 162/2000\n",
      "10/03/2024 02:10:13  [info] - get_data.py - threadable_splus_stamp() - Stamp for iDR4_3_STRIPE82-0002_0002121 downloaded. 163/2000\n",
      "10/03/2024 02:10:13  [info] - get_data.py - threadable_splus_stamp() - Stamp for iDR4_3_STRIPE82-0002_0002446 downloaded. 164/2000\n",
      "10/03/2024 02:10:14  [info] - get_data.py - threadable_splus_stamp() - Stamp for iDR4_3_STRIPE82-0002_0002431 downloaded. 165/2000\n",
      "10/03/2024 02:10:15  [info] - get_data.py - threadable_splus_stamp() - Stamp for iDR4_3_STRIPE82-0002_0002616 downloaded. 166/2000\n",
      "10/03/2024 02:10:16  [info] - get_data.py - threadable_splus_stamp() - Stamp for iDR4_3_STRIPE82-0002_0002623 downloaded. 167/2000\n",
      "10/03/2024 02:10:16  [info] - get_data.py - threadable_splus_stamp() - Stamp for iDR4_3_STRIPE82-0002_0002494 downloaded. 168/2000\n",
      "10/03/2024 02:10:16  [info] - get_data.py - threadable_splus_stamp() - Stamp for iDR4_3_STRIPE82-0002_0002800 downloaded. 169/2000\n",
      "10/03/2024 02:10:17  [info] - get_data.py - threadable_splus_stamp() - Stamp for iDR4_3_STRIPE82-0002_0002657 downloaded. 170/2000\n",
      "10/03/2024 02:10:17  [info] - get_data.py - threadable_splus_stamp() - Stamp for iDR4_3_STRIPE82-0002_0003244 downloaded. 171/2000\n",
      "10/03/2024 02:10:18  [info] - get_data.py - threadable_splus_stamp() - Stamp for iDR4_3_STRIPE82-0001_0030105 downloaded. 172/2000\n",
      "10/03/2024 02:10:21  [info] - get_data.py - threadable_splus_stamp() - Stamp for iDR4_3_STRIPE82-0002_0002803 downloaded. 173/2000\n",
      "10/03/2024 02:10:21  [info] - get_data.py - threadable_splus_stamp() - Stamp for iDR4_3_STRIPE82-0001_0029056 downloaded. 174/2000\n",
      "10/03/2024 02:10:21  [info] - get_data.py - threadable_splus_stamp() - Stamp for iDR4_3_STRIPE82-0001_0030608 downloaded. 175/2000\n",
      "10/03/2024 02:10:21  [info] - get_data.py - threadable_splus_stamp() - Stamp for iDR4_3_STRIPE82-0001_0030547 downloaded. 176/2000\n",
      "10/03/2024 02:10:22  [info] - get_data.py - threadable_splus_stamp() - Stamp for iDR4_3_STRIPE82-0001_0030565 downloaded. 177/200010/03/2024 02:10:22  [info] - get_data.py - threadable_splus_stamp() - Stamp for iDR4_3_STRIPE82-0002_0003083 downloaded. 178/2000\n",
      "\n",
      "10/03/2024 02:10:22  [info] - get_data.py - threadable_splus_stamp() - Stamp for iDR4_3_STRIPE82-0002_0003020 downloaded. 179/2000\n",
      "10/03/2024 02:10:22  [info] - get_data.py - threadable_splus_stamp() - Stamp for iDR4_3_STRIPE82-0002_0003103 downloaded. 180/2000\n",
      "10/03/2024 02:10:22  [info] - get_data.py - threadable_splus_stamp() - Stamp for iDR4_3_STRIPE82-0001_0038527 downloaded. 181/2000\n",
      "10/03/2024 02:10:23  [info] - get_data.py - threadable_splus_stamp() - Stamp for iDR4_3_STRIPE82-0002_0003267 downloaded. 182/2000\n",
      "10/03/2024 02:10:27  [info] - get_data.py - threadable_splus_stamp() - Stamp for iDR4_3_STRIPE82-0002_0003344 downloaded. 183/2000\n",
      "10/03/2024 02:10:27  [info] - get_data.py - threadable_splus_stamp() - Stamp for iDR4_3_STRIPE82-0002_0008159 downloaded. 184/2000\n",
      "10/03/2024 02:10:28  [info] - get_data.py - threadable_splus_stamp() - Stamp for iDR4_3_STRIPE82-0002_0004292 downloaded. 185/2000\n",
      "10/03/2024 02:10:28  [info] - get_data.py - threadable_splus_stamp() - Stamp for iDR4_3_STRIPE82-0002_0003993 downloaded. 186/2000\n",
      "10/03/2024 02:10:28  [info] - get_data.py - threadable_splus_stamp() - Stamp for iDR4_3_STRIPE82-0002_0003647 downloaded. 187/2000\n",
      "10/03/2024 02:10:28  [info] - get_data.py - threadable_splus_stamp() - Stamp for iDR4_3_STRIPE82-0002_0003994 downloaded. 188/2000\n",
      "10/03/2024 02:10:28  [info] - get_data.py - threadable_splus_stamp() - Stamp for iDR4_3_STRIPE82-0002_0003602 downloaded. 189/2000\n",
      "10/03/2024 02:10:28  [info] - get_data.py - threadable_splus_stamp() - Stamp for iDR4_3_STRIPE82-0002_0003846 downloaded. 190/2000\n",
      "10/03/2024 02:10:28  [info] - get_data.py - threadable_splus_stamp() - Stamp for iDR4_3_STRIPE82-0002_0008195 downloaded. 191/2000\n",
      "10/03/2024 02:10:28  [info] - get_data.py - threadable_splus_stamp() - Stamp for iDR4_3_STRIPE82-0002_0008238 downloaded. 192/2000\n",
      "10/03/2024 02:10:32  [info] - get_data.py - threadable_splus_stamp() - Stamp for iDR4_3_STRIPE82-0002_0008336 downloaded. 193/2000\n",
      "10/03/2024 02:10:33  [info] - get_data.py - threadable_splus_stamp() - Stamp for iDR4_3_STRIPE82-0002_0008543 downloaded. 194/2000\n",
      "10/03/2024 02:10:33  [info] - get_data.py - threadable_splus_stamp() - Stamp for iDR4_3_STRIPE82-0002_0008274 downloaded. 195/2000\n",
      "10/03/2024 02:10:33  [info] - get_data.py - threadable_splus_stamp() - Stamp for iDR4_3_STRIPE82-0002_0008466 downloaded. 196/2000\n",
      "10/03/2024 02:10:34  [info] - get_data.py - threadable_splus_stamp() - Stamp for iDR4_3_STRIPE82-0002_0008498 downloaded. 197/2000\n",
      "10/03/2024 02:10:34  [info] - get_data.py - threadable_splus_stamp() - Stamp for iDR4_3_STRIPE82-0002_0008443 downloaded. 198/2000\n",
      "10/03/2024 02:10:34  [info] - get_data.py - threadable_splus_stamp() - Stamp for iDR4_3_STRIPE82-0002_0008661 downloaded. 199/2000\n",
      "10/03/2024 02:10:34  [info] - get_data.py - threadable_splus_stamp() - Stamp for iDR4_3_STRIPE82-0002_0008544 downloaded. 200/2000\n",
      "10/03/2024 02:10:34  [info] - get_data.py - threadable_splus_stamp() - Stamp for iDR4_3_STRIPE82-0002_0008594 downloaded. 201/2000\n",
      "10/03/2024 02:10:36  [info] - get_data.py - threadable_splus_stamp() - Stamp for iDR4_3_STRIPE82-0002_0008614 downloaded. 202/2000\n",
      "10/03/2024 02:10:37  [info] - get_data.py - threadable_splus_stamp() - Stamp for iDR4_3_STRIPE82-0002_0008736 downloaded. 203/2000\n",
      "10/03/2024 02:10:38  [info] - get_data.py - threadable_splus_stamp() - Stamp for iDR4_3_STRIPE82-0002_0008812 downloaded. 204/2000\n",
      "10/03/2024 02:10:39  [info] - get_data.py - threadable_splus_stamp() - Stamp for iDR4_3_STRIPE82-0002_0008847 downloaded. 205/2000\n",
      "10/03/2024 02:10:39  [info] - get_data.py - threadable_splus_stamp() - Stamp for iDR4_3_STRIPE82-0002_0008857 downloaded. 206/2000\n",
      "10/03/2024 02:10:39  [info] - get_data.py - threadable_splus_stamp() - Stamp for iDR4_3_STRIPE82-0002_0009023 downloaded. 207/2000\n",
      "10/03/2024 02:10:40  [info] - get_data.py - threadable_splus_stamp() - Stamp for iDR4_3_STRIPE82-0002_0008739 downloaded. 208/2000\n",
      "10/03/2024 02:10:40  [info] - get_data.py - threadable_splus_stamp() - Stamp for iDR4_3_STRIPE82-0002_0008756 downloaded. 209/2000\n",
      "10/03/2024 02:10:40  [info] - get_data.py - threadable_splus_stamp() - Stamp for iDR4_3_STRIPE82-0002_0009096 downloaded. 210/2000\n",
      "10/03/2024 02:10:41  [info] - get_data.py - threadable_splus_stamp() - Stamp for iDR4_3_STRIPE82-0002_0009031 downloaded. 211/2000\n",
      "10/03/2024 02:10:42  [info] - get_data.py - threadable_splus_stamp() - Stamp for iDR4_3_STRIPE82-0002_0009203 downloaded. 212/2000\n",
      "10/03/2024 02:10:43  [info] - get_data.py - threadable_splus_stamp() - Stamp for iDR4_3_STRIPE82-0002_0009194 downloaded. 213/200010/03/2024 02:10:43  [info] - get_data.py - threadable_splus_stamp() - Stamp for iDR4_3_STRIPE82-0002_0009315 downloaded. 214/2000\n",
      "\n",
      "10/03/2024 02:10:44  [info] - get_data.py - threadable_splus_stamp() - Stamp for iDR4_3_STRIPE82-0002_0009695 downloaded. 215/2000\n",
      "10/03/2024 02:10:44  [info] - get_data.py - threadable_splus_stamp() - Stamp for iDR4_3_STRIPE82-0002_0009603 downloaded. 216/2000\n",
      "10/03/2024 02:10:44  [info] - get_data.py - threadable_splus_stamp() - Stamp for iDR4_3_STRIPE82-0002_0009995 downloaded. 217/2000\n",
      "10/03/2024 02:10:46  [info] - get_data.py - threadable_splus_stamp() - Stamp for iDR4_3_STRIPE82-0002_0010122 downloaded. 218/200010/03/2024 02:10:46  [info] - get_data.py - threadable_splus_stamp() - Stamp for iDR4_3_STRIPE82-0002_0010045 downloaded. 219/2000\n",
      "\n"
     ]
    }
   ],
   "source": [
    "gen_dataset(\"\"\"\n",
    "            SELECT \n",
    "            TOP 2000\n",
    "            det.id, det.ra, det.dec, det.field, det.B, det.A, det.flux_radius_50, det.theta, det.fwhm,\n",
    "            \n",
    "            r.r_auto\n",
    "            FROM \"idr4_dual\".\"idr4_detection_image\" AS det \n",
    "            \n",
    "            LEFT OUTER JOIN \"idr4_dual\".\"idr4_dual_r\" AS r ON r.id = det.id\n",
    "            \n",
    "            WHERE 1 = CONTAINS( POINT('ICRS', det.ra, det.dec), \n",
    "                    CIRCLE('ICRS', 0.5, 0.4, 1) ) \n",
    "                    AND r.r_auto < 21\n",
    "    \"\"\",\n",
    "    fits_folder=\"data/\",\n",
    "    arrays_folder=\"arrays/\"\n",
    "    )"
   ]
  },
  {
   "cell_type": "code",
   "execution_count": 2,
   "metadata": {},
   "outputs": [],
   "source": [
    "conn = splusdata.Core()"
   ]
  },
  {
   "cell_type": "code",
   "execution_count": 3,
   "metadata": {},
   "outputs": [],
   "source": [
    "df = conn.query(f\"\"\"\n",
    "        SELECT \n",
    "        TOP 2000\n",
    "        det.id, det.ra, det.dec, det.field, det.B, det.A, det.flux_radius_50, det.theta, det.fwhm,\n",
    "        \n",
    "        r.r_auto\n",
    "        FROM \"idr4_dual\".\"idr4_detection_image\" AS det \n",
    "        \n",
    "        LEFT OUTER JOIN \"idr4_dual\".\"idr4_dual_r\" AS r ON r.id = det.id\n",
    "        \n",
    "        WHERE 1 = CONTAINS( POINT('ICRS', det.ra, det.dec), \n",
    "\t\t\t\tCIRCLE('ICRS', 0.5, 0.4, 1) ) \n",
    "\t\t\t\tAND r.r_auto < 21\n",
    "        \"\"\")\n",
    "\n",
    "df = df.to_pandas()"
   ]
  },
  {
   "cell_type": "code",
   "execution_count": 69,
   "metadata": {},
   "outputs": [
    {
     "data": {
      "text/plain": [
       "'iDR4_3_STRIPE82-0002_0000151'"
      ]
     },
     "execution_count": 69,
     "metadata": {},
     "output_type": "execute_result"
    }
   ],
   "source": [
    "df[\"ID\"][0]"
   ]
  },
  {
   "cell_type": "code",
   "execution_count": null,
   "metadata": {},
   "outputs": [],
   "source": [
    "try:\n",
    "    df['ID'] = df['ID'].apply(lambda x: x.decode('utf-8'))\n",
    "except:\n",
    "    pass \n",
    "\n",
    "df.to_csv('data.csv', index=False)"
   ]
  },
  {
   "cell_type": "code",
   "execution_count": 37,
   "metadata": {},
   "outputs": [
    {
     "name": "stderr",
     "output_type": "stream",
     "text": [
      "2000it [24:46,  1.35it/s]\n"
     ]
    }
   ],
   "source": [
    "stamps = []\n",
    "\n",
    "for key, value in tqdm(df.iterrows()):\n",
    "    stamp = conn.stamp(value[\"RA\"], value[\"DEC\"], 250, \"R\")\n",
    "    stamps.append(stamp)"
   ]
  },
  {
   "cell_type": "code",
   "execution_count": 51,
   "metadata": {},
   "outputs": [
    {
     "name": "stderr",
     "output_type": "stream",
     "text": [
      "0it [00:00, ?it/s]"
     ]
    },
    {
     "name": "stderr",
     "output_type": "stream",
     "text": [
      "2000it [00:15, 128.62it/s]\n"
     ]
    }
   ],
   "source": [
    "for key, value in tqdm(df.iterrows()):\n",
    "    stamps[key].writeto(f\"data/{value['ID'].decode('utf-8')}.fits.fz\", overwrite=True)"
   ]
  },
  {
   "cell_type": "markdown",
   "metadata": {},
   "source": []
  },
  {
   "cell_type": "code",
   "execution_count": 62,
   "metadata": {},
   "outputs": [
    {
     "data": {
      "text/plain": [
       "array([0.        , 0.        , 0.        , ..., 0.00055736, 0.00044423,\n",
       "       0.00029422], dtype=float32)"
      ]
     },
     "execution_count": 62,
     "metadata": {},
     "output_type": "execute_result"
    }
   ],
   "source": [
    "df['FWHM'].to_numpy()"
   ]
  },
  {
   "cell_type": "code",
   "execution_count": null,
   "metadata": {},
   "outputs": [],
   "source": []
  }
 ],
 "metadata": {
  "kernelspec": {
   "display_name": "base",
   "language": "python",
   "name": "python3"
  },
  "language_info": {
   "codemirror_mode": {
    "name": "ipython",
    "version": 3
   },
   "file_extension": ".py",
   "mimetype": "text/x-python",
   "name": "python",
   "nbconvert_exporter": "python",
   "pygments_lexer": "ipython3",
   "version": "3.11.5"
  }
 },
 "nbformat": 4,
 "nbformat_minor": 2
}
