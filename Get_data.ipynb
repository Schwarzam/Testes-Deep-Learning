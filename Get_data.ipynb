{
 "cells": [
  {
   "cell_type": "code",
   "execution_count": 56,
   "metadata": {},
   "outputs": [],
   "source": [
    "import splusdata\n",
    "from tqdm import tqdm\n",
    "\n",
    "from astropy.io import fits\n",
    "\n",
    "from auxiliar import *"
   ]
  },
  {
   "cell_type": "code",
   "execution_count": 26,
   "metadata": {},
   "outputs": [],
   "source": [
    "conn = splusdata.Core()"
   ]
  },
  {
   "cell_type": "code",
   "execution_count": 27,
   "metadata": {},
   "outputs": [],
   "source": [
    "df = conn.query(f\"\"\"\n",
    "        SELECT \n",
    "        TOP 2000\n",
    "        det.id, det.ra, det.dec, det.field, det.B, det.A, det.flux_radius_50, det.theta, det.fwhm,\n",
    "        \n",
    "        r.r_auto\n",
    "        FROM \"idr4_dual\".\"idr4_detection_image\" AS det \n",
    "        \n",
    "        LEFT OUTER JOIN \"idr4_dual\".\"idr4_dual_r\" AS r ON r.id = det.id\n",
    "        \n",
    "        WHERE 1 = CONTAINS( POINT('ICRS', det.ra, det.dec), \n",
    "\t\t\t\tCIRCLE('ICRS', 0.5, 0.4, 1) ) \n",
    "\t\t\t\tAND r.r_auto < 21\n",
    "        \"\"\")\n",
    "\n",
    "df = df.to_pandas()"
   ]
  },
  {
   "cell_type": "code",
   "execution_count": 52,
   "metadata": {},
   "outputs": [],
   "source": [
    "df.to_csv('data.csv', index=False)"
   ]
  },
  {
   "cell_type": "code",
   "execution_count": 37,
   "metadata": {},
   "outputs": [
    {
     "name": "stderr",
     "output_type": "stream",
     "text": [
      "2000it [24:46,  1.35it/s]\n"
     ]
    }
   ],
   "source": [
    "stamps = []\n",
    "\n",
    "for key, value in tqdm(df.iterrows()):\n",
    "    stamp = conn.stamp(value[\"RA\"], value[\"DEC\"], 250, \"R\")\n",
    "    stamps.append(stamp)"
   ]
  },
  {
   "cell_type": "code",
   "execution_count": 51,
   "metadata": {},
   "outputs": [
    {
     "name": "stderr",
     "output_type": "stream",
     "text": [
      "0it [00:00, ?it/s]"
     ]
    },
    {
     "name": "stderr",
     "output_type": "stream",
     "text": [
      "2000it [00:15, 128.62it/s]\n"
     ]
    }
   ],
   "source": [
    "for key, value in tqdm(df.iterrows()):\n",
    "    stamps[key].writeto(f\"data/{value['ID'].decode('utf-8')}.fits.fz\", overwrite=True)"
   ]
  },
  {
   "cell_type": "markdown",
   "metadata": {},
   "source": []
  },
  {
   "cell_type": "code",
   "execution_count": 62,
   "metadata": {},
   "outputs": [
    {
     "data": {
      "text/plain": [
       "array([0.        , 0.        , 0.        , ..., 0.00055736, 0.00044423,\n",
       "       0.00029422], dtype=float32)"
      ]
     },
     "execution_count": 62,
     "metadata": {},
     "output_type": "execute_result"
    }
   ],
   "source": [
    "df['FWHM'].to_numpy()"
   ]
  },
  {
   "cell_type": "code",
   "execution_count": null,
   "metadata": {},
   "outputs": [],
   "source": []
  }
 ],
 "metadata": {
  "kernelspec": {
   "display_name": "base",
   "language": "python",
   "name": "python3"
  },
  "language_info": {
   "codemirror_mode": {
    "name": "ipython",
    "version": 3
   },
   "file_extension": ".py",
   "mimetype": "text/x-python",
   "name": "python",
   "nbconvert_exporter": "python",
   "pygments_lexer": "ipython3",
   "version": "3.11.5"
  }
 },
 "nbformat": 4,
 "nbformat_minor": 2
}
