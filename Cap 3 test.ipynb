{
  "nbformat": 4,
  "nbformat_minor": 0,
  "metadata": {
    "colab": {
      "name": "Untitled8.ipynb",
      "provenance": [],
      "authorship_tag": "ABX9TyOz8KwNzx3qNO3ot00vIaTZ",
      "include_colab_link": true
    },
    "kernelspec": {
      "name": "python3",
      "display_name": "Python 3"
    }
  },
  "cells": [
    {
      "cell_type": "markdown",
      "metadata": {
        "id": "view-in-github",
        "colab_type": "text"
      },
      "source": [
        "<a href=\"https://colab.research.google.com/github/Schwarzam/Testes-Deep-Learning/blob/master/Cap%203%20test.ipynb\" target=\"_parent\"><img src=\"https://colab.research.google.com/assets/colab-badge.svg\" alt=\"Open In Colab\"/></a>"
      ]
    },
    {
      "cell_type": "code",
      "metadata": {
        "id": "TUCwhwMoAHfA",
        "colab_type": "code",
        "colab": {}
      },
      "source": [
        "from keras.datasets import imdb\n",
        "(train_data, train_labels), (test_data, test_labels) =imdb.load_data(num_words=10000)"
      ],
      "execution_count": 0,
      "outputs": []
    },
    {
      "cell_type": "code",
      "metadata": {
        "id": "R_vU-7hcApji",
        "colab_type": "code",
        "colab": {}
      },
      "source": [
        "import numpy as np  "
      ],
      "execution_count": 0,
      "outputs": []
    },
    {
      "cell_type": "code",
      "metadata": {
        "id": "N77KmmWsAtzf",
        "colab_type": "code",
        "colab": {}
      },
      "source": [
        "def vectorize_sequences(sequences, dimension=10000):\n",
        "  results = np.zeros((len(sequences), dimension))\n",
        "  for i, sequence in enumerate(sequences):\n",
        "    results[i, sequence] = 1.\n",
        "  return results\n",
        "x_train = vectorize_sequences(train_data)\n",
        "x_test = vectorize_sequences(test_data)"
      ],
      "execution_count": 0,
      "outputs": []
    },
    {
      "cell_type": "code",
      "metadata": {
        "id": "C2TYLoZYB76T",
        "colab_type": "code",
        "colab": {}
      },
      "source": [
        "y_train = np.asarray(train_labels).astype('float32')\n",
        "y_test = np.asarray(test_labels).astype('float32')"
      ],
      "execution_count": 0,
      "outputs": []
    },
    {
      "cell_type": "code",
      "metadata": {
        "id": "Va50r7nEDSTZ",
        "colab_type": "code",
        "colab": {}
      },
      "source": [
        "from keras import models\n",
        "from keras import layers\n",
        "model = models.Sequential()\n",
        "model.add(layers.Dense(16, activation = 'relu', input_shape=(10000,)))\n",
        "model.add(layers.Dense(16, activation='relu'))\n",
        "model.add(layers.Dense(1, activation='sigmoid'))"
      ],
      "execution_count": 0,
      "outputs": []
    },
    {
      "cell_type": "code",
      "metadata": {
        "id": "UVFo97PLFGIF",
        "colab_type": "code",
        "colab": {}
      },
      "source": [
        "model.compile(optimizer='rmsprop',\n",
        "              loss='binary_crossentropy',\n",
        "              metrics=['accuracy'])"
      ],
      "execution_count": 0,
      "outputs": []
    },
    {
      "cell_type": "code",
      "metadata": {
        "id": "LbO_rbIQGJar",
        "colab_type": "code",
        "colab": {}
      },
      "source": [
        "from keras import optimizers\n",
        "model.compile(optimizer=optimizers.RMSprop(lr=0.001),\n",
        "              loss='binary_crossentropy',\n",
        "              metrics=['accuracy'])"
      ],
      "execution_count": 0,
      "outputs": []
    },
    {
      "cell_type": "code",
      "metadata": {
        "id": "hL3rwXjrGOpf",
        "colab_type": "code",
        "colab": {}
      },
      "source": [
        "from keras import losses\n",
        "from keras import metrics\n",
        "model.compile(optimizer=optimizers.RMSprop(lr=0.001),\n",
        "              loss=losses.binary_crossentropy,\n",
        "              metrics=[metrics.accuracy])\n"
      ],
      "execution_count": 0,
      "outputs": []
    },
    {
      "cell_type": "code",
      "metadata": {
        "id": "8sG121M5GwlT",
        "colab_type": "code",
        "colab": {}
      },
      "source": [
        "x_val = x_train[:10000]\n",
        "partial_x_train = x_train[10000:]\n",
        "y_val = y_train[:10000]\n",
        "partial_y_train = y_train[10000:]"
      ],
      "execution_count": 0,
      "outputs": []
    },
    {
      "cell_type": "code",
      "metadata": {
        "id": "irIdKgxWHEtV",
        "colab_type": "code",
        "colab": {
          "base_uri": "https://localhost:8080/",
          "height": 734
        },
        "outputId": "01ec9f47-0875-4224-d9b7-2c8c94a1bbc6"
      },
      "source": [
        "model.compile(optimizer='rmsprop',\n",
        "              loss='binary_crossentropy',\n",
        "              metrics=['acc'])\n",
        "history = model.fit(partial_x_train,\n",
        "                    partial_y_train,\n",
        "                    epochs=20,\n",
        "                    batch_size=512,\n",
        "                    validation_data=(x_val, y_val))"
      ],
      "execution_count": 74,
      "outputs": [
        {
          "output_type": "stream",
          "text": [
            "Train on 15000 samples, validate on 10000 samples\n",
            "Epoch 1/20\n",
            "15000/15000 [==============================] - 2s 147us/step - loss: 0.4918 - acc: 0.7949 - val_loss: 0.3778 - val_acc: 0.8607\n",
            "Epoch 2/20\n",
            "15000/15000 [==============================] - 2s 121us/step - loss: 0.2943 - acc: 0.9038 - val_loss: 0.3072 - val_acc: 0.8816\n",
            "Epoch 3/20\n",
            "15000/15000 [==============================] - 2s 122us/step - loss: 0.2172 - acc: 0.9309 - val_loss: 0.2856 - val_acc: 0.8886\n",
            "Epoch 4/20\n",
            "15000/15000 [==============================] - 2s 120us/step - loss: 0.1720 - acc: 0.9437 - val_loss: 0.2769 - val_acc: 0.8883\n",
            "Epoch 5/20\n",
            "15000/15000 [==============================] - 2s 122us/step - loss: 0.1398 - acc: 0.9561 - val_loss: 0.2819 - val_acc: 0.8882\n",
            "Epoch 6/20\n",
            "15000/15000 [==============================] - 2s 120us/step - loss: 0.1153 - acc: 0.9647 - val_loss: 0.2985 - val_acc: 0.8858\n",
            "Epoch 7/20\n",
            "15000/15000 [==============================] - 2s 120us/step - loss: 0.0961 - acc: 0.9715 - val_loss: 0.3775 - val_acc: 0.8660\n",
            "Epoch 8/20\n",
            "15000/15000 [==============================] - 2s 122us/step - loss: 0.0784 - acc: 0.9779 - val_loss: 0.3394 - val_acc: 0.8789\n",
            "Epoch 9/20\n",
            "15000/15000 [==============================] - 2s 121us/step - loss: 0.0619 - acc: 0.9840 - val_loss: 0.3538 - val_acc: 0.8795\n",
            "Epoch 10/20\n",
            "15000/15000 [==============================] - 2s 120us/step - loss: 0.0538 - acc: 0.9864 - val_loss: 0.3820 - val_acc: 0.8753\n",
            "Epoch 11/20\n",
            "15000/15000 [==============================] - 2s 120us/step - loss: 0.0423 - acc: 0.9912 - val_loss: 0.4106 - val_acc: 0.8756\n",
            "Epoch 12/20\n",
            "15000/15000 [==============================] - 2s 119us/step - loss: 0.0342 - acc: 0.9930 - val_loss: 0.4426 - val_acc: 0.8704\n",
            "Epoch 13/20\n",
            "15000/15000 [==============================] - 2s 118us/step - loss: 0.0267 - acc: 0.9949 - val_loss: 0.4649 - val_acc: 0.8724\n",
            "Epoch 14/20\n",
            "15000/15000 [==============================] - 2s 118us/step - loss: 0.0216 - acc: 0.9963 - val_loss: 0.4966 - val_acc: 0.8721\n",
            "Epoch 15/20\n",
            "15000/15000 [==============================] - 2s 120us/step - loss: 0.0160 - acc: 0.9982 - val_loss: 0.5267 - val_acc: 0.8713\n",
            "Epoch 16/20\n",
            "15000/15000 [==============================] - 2s 118us/step - loss: 0.0141 - acc: 0.9977 - val_loss: 0.5602 - val_acc: 0.8686\n",
            "Epoch 17/20\n",
            "15000/15000 [==============================] - 2s 119us/step - loss: 0.0114 - acc: 0.9982 - val_loss: 0.5850 - val_acc: 0.8713\n",
            "Epoch 18/20\n",
            "15000/15000 [==============================] - 2s 117us/step - loss: 0.0055 - acc: 0.9999 - val_loss: 0.6285 - val_acc: 0.8646\n",
            "Epoch 19/20\n",
            "15000/15000 [==============================] - 2s 117us/step - loss: 0.0072 - acc: 0.9991 - val_loss: 0.6462 - val_acc: 0.8690\n",
            "Epoch 20/20\n",
            "15000/15000 [==============================] - 2s 117us/step - loss: 0.0033 - acc: 0.9998 - val_loss: 0.8054 - val_acc: 0.8514\n"
          ],
          "name": "stdout"
        }
      ]
    },
    {
      "cell_type": "code",
      "metadata": {
        "id": "EvYLh8rhHonc",
        "colab_type": "code",
        "colab": {
          "base_uri": "https://localhost:8080/",
          "height": 312
        },
        "outputId": "8cef31f4-fed8-4eaf-ca33-dda64199af41"
      },
      "source": [
        "import matplotlib.pyplot as plt\n",
        "history_dict = history.history\n",
        "loss_values = history_dict['loss']\n",
        "val_loss_values = history_dict['val_loss']\n",
        "\n",
        "epochs =  range(1, len(history_dict['acc']) + 1)\n",
        "plt.plot (epochs, loss_values, 'bo', label='Training_loss')\n",
        "plt.plot (epochs, val_loss_values,'b', label='Validation Loss')\n",
        "plt.title ('Training and Validation loss')\n",
        "plt.xlabel('Epochs')\n",
        "plt.ylabel('Loss')\n",
        "plt.legend()\n",
        "\n",
        "plt.show"
      ],
      "execution_count": 89,
      "outputs": [
        {
          "output_type": "execute_result",
          "data": {
            "text/plain": [
              "<function matplotlib.pyplot.show>"
            ]
          },
          "metadata": {
            "tags": []
          },
          "execution_count": 89
        },
        {
          "output_type": "display_data",
          "data": {
            "image/png": "[encoded data removed]",
            "text/plain": [
              "<Figure size 432x288 with 1 Axes>"
            ]
          },
          "metadata": {
            "tags": [],
            "needs_background": "light"
          }
        }
      ]
    },
    {
      "cell_type": "code",
      "metadata": {
        "id": "x0Rsa-7UL1zn",
        "colab_type": "code",
        "colab": {
          "base_uri": "https://localhost:8080/",
          "height": 312
        },
        "outputId": "034c197d-2a64-45de-83d2-84d9c86e73f4"
      },
      "source": [
        "plt.clf()\n",
        "acc_values = history_dict['acc']\n",
        "val_acc_values = history_dict['val_acc']\n",
        "\n",
        "plt.plot(epochs, history_dict['acc'], 'bo', label= 'Training acc')\n",
        "plt.plot(epochs, history_dict['val_acc'], 'b', label= 'Validation acc')\n",
        "plt.title('Training and validation accuracy')\n",
        "plt.xlabel('Epochs')\n",
        "plt.ylabel('Loss')\n",
        "plt.legend()\n",
        "\n",
        "plt.show\n"
      ],
      "execution_count": 92,
      "outputs": [
        {
          "output_type": "execute_result",
          "data": {
            "text/plain": [
              "<function matplotlib.pyplot.show>"
            ]
          },
          "metadata": {
            "tags": []
          },
          "execution_count": 92
        },
        {
          "output_type": "display_data",
          "data": {
            "image/png": "[encoded data removed]",
            "text/plain": [
              "<Figure size 432x288 with 1 Axes>"
            ]
          },
          "metadata": {
            "tags": [],
            "needs_background": "light"
          }
        }
      ]
    },
    {
      "cell_type": "code",
      "metadata": {
        "id": "gBl_a-j-O8OE",
        "colab_type": "code",
        "colab": {}
      },
      "source": [
        ""
      ],
      "execution_count": 0,
      "outputs": []
    }
  ]
}